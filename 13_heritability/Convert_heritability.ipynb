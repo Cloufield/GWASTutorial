{
 "cells": [
  {
   "cell_type": "code",
   "execution_count": 1,
   "id": "c1488a05",
   "metadata": {},
   "outputs": [],
   "source": [
    "import gwaslab as gl"
   ]
  },
  {
   "cell_type": "code",
   "execution_count": 2,
   "id": "7daf4df9",
   "metadata": {},
   "outputs": [
    {
     "name": "stdout",
     "output_type": "stream",
     "text": [
      "Loading file 1 :BBJ_RA.log ...\n"
     ]
    },
    {
     "name": "stderr",
     "output_type": "stream",
     "text": [
      "/home/he/anaconda3/envs/py38/lib/python3.8/site-packages/gwaslab/read_ldsc.py:54: FutureWarning: The frame.append method is deprecated and will be removed from pandas in a future version. Use pandas.concat instead.\n",
      "  summary = summary.append(row,ignore_index=True)\n"
     ]
    }
   ],
   "source": [
    "df = gl.read_ldsc([\"BBJ_RA.log\"])"
   ]
  },
  {
   "cell_type": "code",
   "execution_count": 3,
   "id": "8b7cf9d6",
   "metadata": {},
   "outputs": [
    {
     "data": {
      "text/html": [
       "<div>\n",
       "<style scoped>\n",
       "    .dataframe tbody tr th:only-of-type {\n",
       "        vertical-align: middle;\n",
       "    }\n",
       "\n",
       "    .dataframe tbody tr th {\n",
       "        vertical-align: top;\n",
       "    }\n",
       "\n",
       "    .dataframe thead th {\n",
       "        text-align: right;\n",
       "    }\n",
       "</style>\n",
       "<table border=\"1\" class=\"dataframe\">\n",
       "  <thead>\n",
       "    <tr style=\"text-align: right;\">\n",
       "      <th></th>\n",
       "      <th>Filename</th>\n",
       "      <th>h2_obs</th>\n",
       "      <th>h2_se</th>\n",
       "      <th>Lambda_gc</th>\n",
       "      <th>Mean_chi2</th>\n",
       "      <th>Intercept</th>\n",
       "      <th>Intercept_se</th>\n",
       "      <th>Ratio</th>\n",
       "      <th>Ratio_se</th>\n",
       "    </tr>\n",
       "  </thead>\n",
       "  <tbody>\n",
       "    <tr>\n",
       "      <th>0</th>\n",
       "      <td>BBJ_RA.log</td>\n",
       "      <td>0.2062</td>\n",
       "      <td>0.0299</td>\n",
       "      <td>1.0255</td>\n",
       "      <td>1.0435</td>\n",
       "      <td>0.9608</td>\n",
       "      <td>0.0077</td>\n",
       "      <td>Ratio &lt; 0</td>\n",
       "      <td>NA</td>\n",
       "    </tr>\n",
       "  </tbody>\n",
       "</table>\n",
       "</div>"
      ],
      "text/plain": [
       "     Filename  h2_obs   h2_se Lambda_gc Mean_chi2 Intercept Intercept_se  \\\n",
       "0  BBJ_RA.log  0.2062  0.0299    1.0255    1.0435    0.9608       0.0077   \n",
       "\n",
       "       Ratio Ratio_se  \n",
       "0  Ratio < 0       NA  "
      ]
     },
     "execution_count": 3,
     "metadata": {},
     "output_type": "execute_result"
    }
   ],
   "source": [
    "df"
   ]
  },
  {
   "cell_type": "markdown",
   "id": "b8fdc102",
   "metadata": {},
   "source": [
    "Equation:\n",
    "reference:  https://www.ncbi.nlm.nih.gov/pmc/articles/PMC3059431/ \n",
    "    \n",
    "the fraction of y that is larger than t is K\n",
    "\n",
    "`t = norm.isf(K)`\n",
    "\n",
    "z the height of the normal curve at point t\n",
    "\n",
    "`z = norm.pdf(t)`\n",
    "\n",
    "Equation 23:\n",
    "\n",
    "`numerator= K**2 * (1-K)**2`\n",
    "\n",
    "`denominator= P*(1-P) * z**2`\n",
    "\n",
    "`conversion_factor = numerator/denominator`\n",
    "\n",
    "`h2_liab = h2_obs * conversion_factor`"
   ]
  },
  {
   "cell_type": "code",
   "execution_count": 4,
   "id": "387b600b",
   "metadata": {},
   "outputs": [],
   "source": [
    "# sample\n",
    "p=3636/(3636 + 15554)\n",
    "\n",
    "# population\n",
    "k=5348/(173268 + 5348)"
   ]
  },
  {
   "cell_type": "code",
   "execution_count": 5,
   "id": "7046ec14",
   "metadata": {},
   "outputs": [
    {
     "data": {
      "text/plain": [
       "0.2454524523581513"
      ]
     },
     "execution_count": 5,
     "metadata": {},
     "output_type": "execute_result"
    }
   ],
   "source": [
    "gl.h2_obs_to_liab(h2_obs = 0.2062, P=p, K=k)"
   ]
  }
 ],
 "metadata": {
  "kernelspec": {
   "display_name": "Python 3 (ipykernel)",
   "language": "python",
   "name": "python3"
  },
  "language_info": {
   "codemirror_mode": {
    "name": "ipython",
    "version": 3
   },
   "file_extension": ".py",
   "mimetype": "text/x-python",
   "name": "python",
   "nbconvert_exporter": "python",
   "pygments_lexer": "ipython3",
   "version": "3.8.15"
  },
  "toc": {
   "base_numbering": 1,
   "nav_menu": {},
   "number_sections": true,
   "sideBar": true,
   "skip_h1_title": false,
   "title_cell": "Table of Contents",
   "title_sidebar": "Contents",
   "toc_cell": false,
   "toc_position": {},
   "toc_section_display": true,
   "toc_window_display": false
  }
 },
 "nbformat": 4,
 "nbformat_minor": 5
}
