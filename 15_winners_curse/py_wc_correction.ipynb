{
 "cells": [
  {
   "cell_type": "code",
   "execution_count": 4,
   "id": "8409151e",
   "metadata": {},
   "outputs": [],
   "source": [
    "import scipy as sp\n",
    "import numpy as np"
   ]
  },
  {
   "cell_type": "code",
   "execution_count": null,
   "id": "efc42d61",
   "metadata": {},
   "outputs": [],
   "source": [
    "### Winner's curse correction\n",
    "WC_correction <- function(BETA,        # Effect size \n",
    "                          SE,          # Standard Error\n",
    "                          alpha=5e-8){ # Significance threshold\n",
    "  \n",
    "  Q     <- qchisq(alpha,df=1,lower.tail=FALSE)\n",
    "  cs    <- sqrt(Q)\n",
    "  \n",
    "  bias  <- function(betaTrue,betaObs,se){\n",
    "    z   <- betaTrue/se\n",
    "    num <- dnorm(z-cs)-dnorm(-z-cs)\n",
    "    den <- pnorm(z-cs)-pnorm(-z-cs)\n",
    "    return(betaObs-betaTrue + se * num/den)\n",
    "  }\n",
    "  \n",
    "  solveBetaTrue <- function(betaObs,se){\n",
    "    md <- uniroot(f=function(b) bias(b,betaObs,se),lower=-100,upper=100)\n",
    "    return(md$root)\n",
    "  }\n",
    "  \n",
    "  BETA_corrected  <- sapply(1:length(BETA),function(i) solveBetaTrue(BETA[i],SE[i]))\n",
    "  return(BETA_corrected)\n",
    "}"
   ]
  },
  {
   "cell_type": "code",
   "execution_count": 28,
   "id": "3c58aa06",
   "metadata": {},
   "outputs": [
    {
     "data": {
      "text/plain": [
       "29.716785488631203"
      ]
     },
     "execution_count": 28,
     "metadata": {},
     "output_type": "execute_result"
    }
   ],
   "source": [
    "sp.stats.chi2.ppf(1-5e-8,df=1)"
   ]
  },
  {
   "cell_type": "code",
   "execution_count": 63,
   "id": "aa56cbfe",
   "metadata": {},
   "outputs": [],
   "source": [
    "def WC_correct(beta, se, sig_level=5e-8):\n",
    "    \n",
    "    c2 = sp.stats.chi2.ppf(1-sig_level,df=1)\n",
    "    c = np.sqrt(c2)\n",
    "    # the equation to solve\n",
    "    \n",
    "    def bias(beta_T,beta_O,se):\n",
    "        z = beta_T / se\n",
    "        numerator = sp.stats.norm.pdf(z - c) - sp.stats.norm.pdf(- z - c)\n",
    "        denominator = sp.stats.norm.cdf(z - c) + sp.stats.norm.cdf(- z - c)\n",
    "        return beta_T + se * numerator / denominator - beta_O\n",
    "    minimum = sp.optimize.brentq(lambda x : bias(x,beta,se),a=-100,b=100, maxiter=1000)\n",
    "    \n",
    "    return minimum"
   ]
  },
  {
   "cell_type": "code",
   "execution_count": 64,
   "id": "3cc19286",
   "metadata": {},
   "outputs": [
    {
     "data": {
      "text/plain": [
       "0.05271738791297707"
      ]
     },
     "execution_count": 64,
     "metadata": {},
     "output_type": "execute_result"
    }
   ],
   "source": [
    "WC_correct(0.05510736, 0.008186396)"
   ]
  },
  {
   "cell_type": "code",
   "execution_count": 61,
   "id": "a432f558",
   "metadata": {
    "scrolled": true
   },
   "outputs": [
    {
     "name": "stdout",
     "output_type": "stream",
     "text": [
      "5.451310437741663\n",
      "solving\n"
     ]
    },
    {
     "data": {
      "text/plain": [
       "0.1488781270128764"
      ]
     },
     "execution_count": 61,
     "metadata": {},
     "output_type": "execute_result"
    }
   ],
   "source": [
    "WC_correct(0.15,0.02)"
   ]
  },
  {
   "cell_type": "code",
   "execution_count": 45,
   "id": "eb07c8fd",
   "metadata": {},
   "outputs": [
    {
     "data": {
      "text/plain": [
       "29.716785488631203"
      ]
     },
     "execution_count": 45,
     "metadata": {},
     "output_type": "execute_result"
    }
   ],
   "source": [
    "sp.stats.chi2.ppf(1-5e-8,df=1)"
   ]
  }
 ],
 "metadata": {
  "kernelspec": {
   "display_name": "Python 3",
   "language": "python",
   "name": "python3"
  },
  "language_info": {
   "codemirror_mode": {
    "name": "ipython",
    "version": 3
   },
   "file_extension": ".py",
   "mimetype": "text/x-python",
   "name": "python",
   "nbconvert_exporter": "python",
   "pygments_lexer": "ipython3",
   "version": "3.8.3"
  },
  "toc": {
   "base_numbering": 1,
   "nav_menu": {},
   "number_sections": true,
   "sideBar": true,
   "skip_h1_title": false,
   "title_cell": "Table of Contents",
   "title_sidebar": "Contents",
   "toc_cell": false,
   "toc_position": {},
   "toc_section_display": true,
   "toc_window_display": false
  }
 },
 "nbformat": 4,
 "nbformat_minor": 5
}
