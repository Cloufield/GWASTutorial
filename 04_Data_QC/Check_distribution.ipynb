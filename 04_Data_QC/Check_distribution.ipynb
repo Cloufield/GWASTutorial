{
 "cells": [
  {
   "cell_type": "code",
   "execution_count": 1,
   "id": "4454efbc",
   "metadata": {},
   "outputs": [
    {
     "name": "stderr",
     "output_type": "stream",
     "text": [
      "/tmp/ipykernel_2889/1492400551.py:1: DeprecationWarning: \n",
      "Pyarrow will become a required dependency of pandas in the next major release of pandas (pandas 3.0),\n",
      "(to allow more performant data types, such as the Arrow string type, and better interoperability with other libraries)\n",
      "but was not found to be installed on your system.\n",
      "If this would cause problems for you,\n",
      "please provide us feedback at https://github.com/pandas-dev/pandas/issues/54466\n",
      "        \n",
      "  import pandas as pd\n"
     ]
    }
   ],
   "source": [
    "import pandas as pd\n",
    "import matplotlib.pyplot as plt"
   ]
  },
  {
   "cell_type": "code",
   "execution_count": 2,
   "id": "b6212326",
   "metadata": {},
   "outputs": [
    {
     "data": {
      "text/html": [
       "<div>\n",
       "<style scoped>\n",
       "    .dataframe tbody tr th:only-of-type {\n",
       "        vertical-align: middle;\n",
       "    }\n",
       "\n",
       "    .dataframe tbody tr th {\n",
       "        vertical-align: top;\n",
       "    }\n",
       "\n",
       "    .dataframe thead th {\n",
       "        text-align: right;\n",
       "    }\n",
       "</style>\n",
       "<table border=\"1\" class=\"dataframe\">\n",
       "  <thead>\n",
       "    <tr style=\"text-align: right;\">\n",
       "      <th></th>\n",
       "      <th>CHR</th>\n",
       "      <th>SNP</th>\n",
       "      <th>A1</th>\n",
       "      <th>A2</th>\n",
       "      <th>MAF</th>\n",
       "      <th>NCHROBS</th>\n",
       "    </tr>\n",
       "  </thead>\n",
       "  <tbody>\n",
       "    <tr>\n",
       "      <th>0</th>\n",
       "      <td>1</td>\n",
       "      <td>1:14930:A:G</td>\n",
       "      <td>G</td>\n",
       "      <td>A</td>\n",
       "      <td>0.41330</td>\n",
       "      <td>1004</td>\n",
       "    </tr>\n",
       "    <tr>\n",
       "      <th>1</th>\n",
       "      <td>1</td>\n",
       "      <td>1:15774:G:A</td>\n",
       "      <td>A</td>\n",
       "      <td>G</td>\n",
       "      <td>0.02794</td>\n",
       "      <td>1002</td>\n",
       "    </tr>\n",
       "    <tr>\n",
       "      <th>2</th>\n",
       "      <td>1</td>\n",
       "      <td>1:15777:A:G</td>\n",
       "      <td>G</td>\n",
       "      <td>A</td>\n",
       "      <td>0.07385</td>\n",
       "      <td>1002</td>\n",
       "    </tr>\n",
       "    <tr>\n",
       "      <th>3</th>\n",
       "      <td>1</td>\n",
       "      <td>1:57292:C:T</td>\n",
       "      <td>T</td>\n",
       "      <td>C</td>\n",
       "      <td>0.10540</td>\n",
       "      <td>996</td>\n",
       "    </tr>\n",
       "    <tr>\n",
       "      <th>4</th>\n",
       "      <td>1</td>\n",
       "      <td>1:77874:G:A</td>\n",
       "      <td>A</td>\n",
       "      <td>G</td>\n",
       "      <td>0.01996</td>\n",
       "      <td>1002</td>\n",
       "    </tr>\n",
       "    <tr>\n",
       "      <th>...</th>\n",
       "      <td>...</td>\n",
       "      <td>...</td>\n",
       "      <td>...</td>\n",
       "      <td>...</td>\n",
       "      <td>...</td>\n",
       "      <td>...</td>\n",
       "    </tr>\n",
       "    <tr>\n",
       "      <th>1235111</th>\n",
       "      <td>22</td>\n",
       "      <td>22:51218377:G:C</td>\n",
       "      <td>C</td>\n",
       "      <td>G</td>\n",
       "      <td>0.03293</td>\n",
       "      <td>1002</td>\n",
       "    </tr>\n",
       "    <tr>\n",
       "      <th>1235112</th>\n",
       "      <td>22</td>\n",
       "      <td>22:51218615:T:A</td>\n",
       "      <td>A</td>\n",
       "      <td>T</td>\n",
       "      <td>0.03287</td>\n",
       "      <td>1004</td>\n",
       "    </tr>\n",
       "    <tr>\n",
       "      <th>1235113</th>\n",
       "      <td>22</td>\n",
       "      <td>22:51222073:C:G</td>\n",
       "      <td>G</td>\n",
       "      <td>C</td>\n",
       "      <td>0.00200</td>\n",
       "      <td>1000</td>\n",
       "    </tr>\n",
       "    <tr>\n",
       "      <th>1235114</th>\n",
       "      <td>22</td>\n",
       "      <td>22:51222100:G:T</td>\n",
       "      <td>T</td>\n",
       "      <td>G</td>\n",
       "      <td>0.03869</td>\n",
       "      <td>1008</td>\n",
       "    </tr>\n",
       "    <tr>\n",
       "      <th>1235115</th>\n",
       "      <td>22</td>\n",
       "      <td>22:51239678:G:T</td>\n",
       "      <td>T</td>\n",
       "      <td>G</td>\n",
       "      <td>0.03472</td>\n",
       "      <td>1008</td>\n",
       "    </tr>\n",
       "  </tbody>\n",
       "</table>\n",
       "<p>1235116 rows × 6 columns</p>\n",
       "</div>"
      ],
      "text/plain": [
       "         CHR              SNP A1 A2      MAF  NCHROBS\n",
       "0          1      1:14930:A:G  G  A  0.41330     1004\n",
       "1          1      1:15774:G:A  A  G  0.02794     1002\n",
       "2          1      1:15777:A:G  G  A  0.07385     1002\n",
       "3          1      1:57292:C:T  T  C  0.10540      996\n",
       "4          1      1:77874:G:A  A  G  0.01996     1002\n",
       "...      ...              ... .. ..      ...      ...\n",
       "1235111   22  22:51218377:G:C  C  G  0.03293     1002\n",
       "1235112   22  22:51218615:T:A  A  T  0.03287     1004\n",
       "1235113   22  22:51222073:C:G  G  C  0.00200     1000\n",
       "1235114   22  22:51222100:G:T  T  G  0.03869     1008\n",
       "1235115   22  22:51239678:G:T  T  G  0.03472     1008\n",
       "\n",
       "[1235116 rows x 6 columns]"
      ]
     },
     "execution_count": 2,
     "metadata": {},
     "output_type": "execute_result"
    }
   ],
   "source": [
    "frq = pd.read_csv(\"plink_results.frq\",sep=\"\\s+\")\n",
    "frq"
   ]
  },
  {
   "cell_type": "code",
   "execution_count": 3,
   "id": "0cd2d2f6",
   "metadata": {},
   "outputs": [
    {
     "data": {
      "text/plain": [
       "Text(0, 0.5, 'Count')"
      ]
     },
     "execution_count": 3,
     "metadata": {},
     "output_type": "execute_result"
    },
    {
     "data": {
      "image/png": "[encoded data removed]",
      "text/plain": [
       "<Figure size 1000x500 with 1 Axes>"
      ]
     },
     "metadata": {},
     "output_type": "display_data"
    }
   ],
   "source": [
    "fig, ax = plt.subplots(figsize=(10,5))\n",
    "ax.hist(frq[\"MAF\"],bins=50)\n",
    "ax.set_xlabel(\"MAF\")\n",
    "ax.set_ylabel(\"Count\")"
   ]
  },
  {
   "cell_type": "code",
   "execution_count": 4,
   "id": "0e48169a",
   "metadata": {},
   "outputs": [],
   "source": [
    "imiss = pd.read_csv(\"plink_results.imiss\",sep=\"\\s+\")"
   ]
  },
  {
   "cell_type": "code",
   "execution_count": 5,
   "id": "a76cf9eb",
   "metadata": {},
   "outputs": [
    {
     "data": {
      "text/html": [
       "<div>\n",
       "<style scoped>\n",
       "    .dataframe tbody tr th:only-of-type {\n",
       "        vertical-align: middle;\n",
       "    }\n",
       "\n",
       "    .dataframe tbody tr th {\n",
       "        vertical-align: top;\n",
       "    }\n",
       "\n",
       "    .dataframe thead th {\n",
       "        text-align: right;\n",
       "    }\n",
       "</style>\n",
       "<table border=\"1\" class=\"dataframe\">\n",
       "  <thead>\n",
       "    <tr style=\"text-align: right;\">\n",
       "      <th></th>\n",
       "      <th>FID</th>\n",
       "      <th>IID</th>\n",
       "      <th>MISS_PHENO</th>\n",
       "      <th>N_MISS</th>\n",
       "      <th>N_GENO</th>\n",
       "      <th>F_MISS</th>\n",
       "    </tr>\n",
       "  </thead>\n",
       "  <tbody>\n",
       "    <tr>\n",
       "      <th>0</th>\n",
       "      <td>HG00403</td>\n",
       "      <td>HG00403</td>\n",
       "      <td>Y</td>\n",
       "      <td>10020</td>\n",
       "      <td>1235116</td>\n",
       "      <td>0.008113</td>\n",
       "    </tr>\n",
       "    <tr>\n",
       "      <th>1</th>\n",
       "      <td>HG00404</td>\n",
       "      <td>HG00404</td>\n",
       "      <td>Y</td>\n",
       "      <td>9192</td>\n",
       "      <td>1235116</td>\n",
       "      <td>0.007442</td>\n",
       "    </tr>\n",
       "    <tr>\n",
       "      <th>2</th>\n",
       "      <td>HG00406</td>\n",
       "      <td>HG00406</td>\n",
       "      <td>Y</td>\n",
       "      <td>15751</td>\n",
       "      <td>1235116</td>\n",
       "      <td>0.012750</td>\n",
       "    </tr>\n",
       "    <tr>\n",
       "      <th>3</th>\n",
       "      <td>HG00407</td>\n",
       "      <td>HG00407</td>\n",
       "      <td>Y</td>\n",
       "      <td>14653</td>\n",
       "      <td>1235116</td>\n",
       "      <td>0.011860</td>\n",
       "    </tr>\n",
       "    <tr>\n",
       "      <th>4</th>\n",
       "      <td>HG00409</td>\n",
       "      <td>HG00409</td>\n",
       "      <td>Y</td>\n",
       "      <td>5667</td>\n",
       "      <td>1235116</td>\n",
       "      <td>0.004588</td>\n",
       "    </tr>\n",
       "    <tr>\n",
       "      <th>...</th>\n",
       "      <td>...</td>\n",
       "      <td>...</td>\n",
       "      <td>...</td>\n",
       "      <td>...</td>\n",
       "      <td>...</td>\n",
       "      <td>...</td>\n",
       "    </tr>\n",
       "    <tr>\n",
       "      <th>499</th>\n",
       "      <td>NA19087</td>\n",
       "      <td>NA19087</td>\n",
       "      <td>Y</td>\n",
       "      <td>10124</td>\n",
       "      <td>1235116</td>\n",
       "      <td>0.008197</td>\n",
       "    </tr>\n",
       "    <tr>\n",
       "      <th>500</th>\n",
       "      <td>NA19088</td>\n",
       "      <td>NA19088</td>\n",
       "      <td>Y</td>\n",
       "      <td>6163</td>\n",
       "      <td>1235116</td>\n",
       "      <td>0.004990</td>\n",
       "    </tr>\n",
       "    <tr>\n",
       "      <th>501</th>\n",
       "      <td>NA19089</td>\n",
       "      <td>NA19089</td>\n",
       "      <td>Y</td>\n",
       "      <td>6253</td>\n",
       "      <td>1235116</td>\n",
       "      <td>0.005063</td>\n",
       "    </tr>\n",
       "    <tr>\n",
       "      <th>502</th>\n",
       "      <td>NA19090</td>\n",
       "      <td>NA19090</td>\n",
       "      <td>Y</td>\n",
       "      <td>2101</td>\n",
       "      <td>1235116</td>\n",
       "      <td>0.001701</td>\n",
       "    </tr>\n",
       "    <tr>\n",
       "      <th>503</th>\n",
       "      <td>NA19091</td>\n",
       "      <td>NA19091</td>\n",
       "      <td>Y</td>\n",
       "      <td>12094</td>\n",
       "      <td>1235116</td>\n",
       "      <td>0.009792</td>\n",
       "    </tr>\n",
       "  </tbody>\n",
       "</table>\n",
       "<p>504 rows × 6 columns</p>\n",
       "</div>"
      ],
      "text/plain": [
       "         FID      IID MISS_PHENO  N_MISS   N_GENO    F_MISS\n",
       "0    HG00403  HG00403          Y   10020  1235116  0.008113\n",
       "1    HG00404  HG00404          Y    9192  1235116  0.007442\n",
       "2    HG00406  HG00406          Y   15751  1235116  0.012750\n",
       "3    HG00407  HG00407          Y   14653  1235116  0.011860\n",
       "4    HG00409  HG00409          Y    5667  1235116  0.004588\n",
       "..       ...      ...        ...     ...      ...       ...\n",
       "499  NA19087  NA19087          Y   10124  1235116  0.008197\n",
       "500  NA19088  NA19088          Y    6163  1235116  0.004990\n",
       "501  NA19089  NA19089          Y    6253  1235116  0.005063\n",
       "502  NA19090  NA19090          Y    2101  1235116  0.001701\n",
       "503  NA19091  NA19091          Y   12094  1235116  0.009792\n",
       "\n",
       "[504 rows x 6 columns]"
      ]
     },
     "execution_count": 5,
     "metadata": {},
     "output_type": "execute_result"
    }
   ],
   "source": [
    "imiss"
   ]
  },
  {
   "cell_type": "code",
   "execution_count": 6,
   "id": "89f09c5e",
   "metadata": {},
   "outputs": [
    {
     "data": {
      "text/plain": [
       "Text(0, 0.5, 'Count')"
      ]
     },
     "execution_count": 6,
     "metadata": {},
     "output_type": "execute_result"
    },
    {
     "data": {
      "image/png": "[encoded data removed]",
      "text/plain": [
       "<Figure size 1000x500 with 1 Axes>"
      ]
     },
     "metadata": {},
     "output_type": "display_data"
    }
   ],
   "source": [
    "fig, ax = plt.subplots(figsize=(10,5))\n",
    "ax.hist(imiss[\"F_MISS\"])\n",
    "ax.set_xlabel(\"Sample missing rate\")\n",
    "ax.set_ylabel(\"Count\")"
   ]
  },
  {
   "cell_type": "code",
   "execution_count": 7,
   "id": "17b6ca0c",
   "metadata": {},
   "outputs": [],
   "source": [
    "lmiss = pd.read_csv(\"plink_results.lmiss\",sep=\"\\s+\")"
   ]
  },
  {
   "cell_type": "code",
   "execution_count": 8,
   "id": "914eef09",
   "metadata": {},
   "outputs": [
    {
     "data": {
      "text/plain": [
       "Text(0, 0.5, 'Count')"
      ]
     },
     "execution_count": 8,
     "metadata": {},
     "output_type": "execute_result"
    },
    {
     "data": {
      "image/png": "[encoded data removed]",
      "text/plain": [
       "<Figure size 1000x500 with 1 Axes>"
      ]
     },
     "metadata": {},
     "output_type": "display_data"
    }
   ],
   "source": [
    "fig, ax = plt.subplots(figsize=(10,5))\n",
    "ax.hist(lmiss[\"F_MISS\"])\n",
    "ax.set_xlabel(\"SNP missing rate\")\n",
    "ax.set_ylabel(\"Count\")"
   ]
  },
  {
   "cell_type": "code",
   "execution_count": 9,
   "id": "94609737",
   "metadata": {},
   "outputs": [],
   "source": [
    "het = pd.read_csv(\"plink_results.het\",sep=\"\\s+\")"
   ]
  },
  {
   "cell_type": "code",
   "execution_count": 10,
   "id": "c193da37",
   "metadata": {},
   "outputs": [
    {
     "data": {
      "text/html": [
       "<div>\n",
       "<style scoped>\n",
       "    .dataframe tbody tr th:only-of-type {\n",
       "        vertical-align: middle;\n",
       "    }\n",
       "\n",
       "    .dataframe tbody tr th {\n",
       "        vertical-align: top;\n",
       "    }\n",
       "\n",
       "    .dataframe thead th {\n",
       "        text-align: right;\n",
       "    }\n",
       "</style>\n",
       "<table border=\"1\" class=\"dataframe\">\n",
       "  <thead>\n",
       "    <tr style=\"text-align: right;\">\n",
       "      <th></th>\n",
       "      <th>FID</th>\n",
       "      <th>IID</th>\n",
       "      <th>O(HOM)</th>\n",
       "      <th>E(HOM)</th>\n",
       "      <th>N(NM)</th>\n",
       "      <th>F</th>\n",
       "    </tr>\n",
       "  </thead>\n",
       "  <tbody>\n",
       "    <tr>\n",
       "      <th>0</th>\n",
       "      <td>HG00403</td>\n",
       "      <td>HG00403</td>\n",
       "      <td>180222</td>\n",
       "      <td>179600.0</td>\n",
       "      <td>217363</td>\n",
       "      <td>0.016980</td>\n",
       "    </tr>\n",
       "    <tr>\n",
       "      <th>1</th>\n",
       "      <td>HG00404</td>\n",
       "      <td>HG00404</td>\n",
       "      <td>180127</td>\n",
       "      <td>179700.0</td>\n",
       "      <td>217553</td>\n",
       "      <td>0.010230</td>\n",
       "    </tr>\n",
       "    <tr>\n",
       "      <th>2</th>\n",
       "      <td>HG00406</td>\n",
       "      <td>HG00406</td>\n",
       "      <td>178891</td>\n",
       "      <td>178900.0</td>\n",
       "      <td>216533</td>\n",
       "      <td>-0.000114</td>\n",
       "    </tr>\n",
       "    <tr>\n",
       "      <th>3</th>\n",
       "      <td>HG00407</td>\n",
       "      <td>HG00407</td>\n",
       "      <td>178992</td>\n",
       "      <td>179000.0</td>\n",
       "      <td>216677</td>\n",
       "      <td>-0.000803</td>\n",
       "    </tr>\n",
       "    <tr>\n",
       "      <th>4</th>\n",
       "      <td>HG00409</td>\n",
       "      <td>HG00409</td>\n",
       "      <td>179918</td>\n",
       "      <td>180100.0</td>\n",
       "      <td>218045</td>\n",
       "      <td>-0.006049</td>\n",
       "    </tr>\n",
       "    <tr>\n",
       "      <th>...</th>\n",
       "      <td>...</td>\n",
       "      <td>...</td>\n",
       "      <td>...</td>\n",
       "      <td>...</td>\n",
       "      <td>...</td>\n",
       "      <td>...</td>\n",
       "    </tr>\n",
       "    <tr>\n",
       "      <th>499</th>\n",
       "      <td>NA19087</td>\n",
       "      <td>NA19087</td>\n",
       "      <td>179246</td>\n",
       "      <td>179600.0</td>\n",
       "      <td>217363</td>\n",
       "      <td>-0.008511</td>\n",
       "    </tr>\n",
       "    <tr>\n",
       "      <th>500</th>\n",
       "      <td>NA19088</td>\n",
       "      <td>NA19088</td>\n",
       "      <td>179993</td>\n",
       "      <td>180100.0</td>\n",
       "      <td>217964</td>\n",
       "      <td>-0.002196</td>\n",
       "    </tr>\n",
       "    <tr>\n",
       "      <th>501</th>\n",
       "      <td>NA19089</td>\n",
       "      <td>NA19089</td>\n",
       "      <td>180148</td>\n",
       "      <td>180100.0</td>\n",
       "      <td>217949</td>\n",
       "      <td>0.002216</td>\n",
       "    </tr>\n",
       "    <tr>\n",
       "      <th>502</th>\n",
       "      <td>NA19090</td>\n",
       "      <td>NA19090</td>\n",
       "      <td>180799</td>\n",
       "      <td>180600.0</td>\n",
       "      <td>218625</td>\n",
       "      <td>0.004523</td>\n",
       "    </tr>\n",
       "    <tr>\n",
       "      <th>503</th>\n",
       "      <td>NA19091</td>\n",
       "      <td>NA19091</td>\n",
       "      <td>179850</td>\n",
       "      <td>179300.0</td>\n",
       "      <td>217065</td>\n",
       "      <td>0.013830</td>\n",
       "    </tr>\n",
       "  </tbody>\n",
       "</table>\n",
       "<p>504 rows × 6 columns</p>\n",
       "</div>"
      ],
      "text/plain": [
       "         FID      IID  O(HOM)    E(HOM)   N(NM)         F\n",
       "0    HG00403  HG00403  180222  179600.0  217363  0.016980\n",
       "1    HG00404  HG00404  180127  179700.0  217553  0.010230\n",
       "2    HG00406  HG00406  178891  178900.0  216533 -0.000114\n",
       "3    HG00407  HG00407  178992  179000.0  216677 -0.000803\n",
       "4    HG00409  HG00409  179918  180100.0  218045 -0.006049\n",
       "..       ...      ...     ...       ...     ...       ...\n",
       "499  NA19087  NA19087  179246  179600.0  217363 -0.008511\n",
       "500  NA19088  NA19088  179993  180100.0  217964 -0.002196\n",
       "501  NA19089  NA19089  180148  180100.0  217949  0.002216\n",
       "502  NA19090  NA19090  180799  180600.0  218625  0.004523\n",
       "503  NA19091  NA19091  179850  179300.0  217065  0.013830\n",
       "\n",
       "[504 rows x 6 columns]"
      ]
     },
     "execution_count": 10,
     "metadata": {},
     "output_type": "execute_result"
    }
   ],
   "source": [
    "het"
   ]
  },
  {
   "cell_type": "code",
   "execution_count": 11,
   "id": "d23dae87",
   "metadata": {},
   "outputs": [
    {
     "data": {
      "text/plain": [
       "<matplotlib.lines.Line2D at 0x7f3323cddee0>"
      ]
     },
     "execution_count": 11,
     "metadata": {},
     "output_type": "execute_result"
    },
    {
     "data": {
      "image/png": "[encoded data removed]",
      "text/plain": [
       "<Figure size 1000x500 with 1 Axes>"
      ]
     },
     "metadata": {},
     "output_type": "display_data"
    }
   ],
   "source": [
    "fig, ax = plt.subplots(figsize=(10,5))\n",
    "ax.hist(het[\"F\"],bins=20)\n",
    "ax.set_xlabel(\"F_het\")\n",
    "ax.set_ylabel(\"Count\")\n",
    "\n",
    "ax.axvline(0.1,c=\"red\",linestyle=\"dashed\")\n",
    "ax.axvline(-0.1,c=\"red\",linestyle=\"dashed\")"
   ]
  }
 ],
 "metadata": {
  "kernelspec": {
   "display_name": "Python 3 (ipykernel)",
   "language": "python",
   "name": "python3"
  },
  "language_info": {
   "codemirror_mode": {
    "name": "ipython",
    "version": 3
   },
   "file_extension": ".py",
   "mimetype": "text/x-python",
   "name": "python",
   "nbconvert_exporter": "python",
   "pygments_lexer": "ipython3",
   "version": "3.9.18"
  },
  "toc": {
   "base_numbering": 1,
   "nav_menu": {},
   "number_sections": true,
   "sideBar": true,
   "skip_h1_title": false,
   "title_cell": "Table of Contents",
   "title_sidebar": "Contents",
   "toc_cell": false,
   "toc_position": {},
   "toc_section_display": true,
   "toc_window_display": false
  }
 },
 "nbformat": 4,
 "nbformat_minor": 5
}
